{
 "cells": [
  {
   "cell_type": "code",
   "execution_count": 1,
   "metadata": {},
   "outputs": [
    {
     "name": "stderr",
     "output_type": "stream",
     "text": [
      "WARNING (theano.configdefaults): g++ not available, if using conda: `conda install m2w64-toolchain`\n",
      "C:\\Users\\Maneesha\\Anaconda3\\lib\\site-packages\\theano\\configdefaults.py:560: UserWarning: DeprecationWarning: there is no c++ compiler.This is deprecated and with Theano 0.11 a c++ compiler will be mandatory\n",
      "  warnings.warn(\"DeprecationWarning: there is no c++ compiler.\"\n",
      "WARNING (theano.configdefaults): g++ not detected ! Theano will be unable to execute optimized C-implementations (for both CPU and GPU) and will default to Python implementations. Performance will be severely degraded. To remove this warning, set Theano flags cxx to an empty string.\n",
      "WARNING (theano.tensor.blas): Using NumPy C-API based implementation for BLAS functions.\n"
     ]
    }
   ],
   "source": [
    "from _operator import itemgetter\n",
    "from math import sqrt\n",
    "import random\n",
    "import time\n",
    "import numpy as np\n",
    "import pandas as pd\n",
    "import os\n",
    "import psutil\n",
    "import gc\n",
    "\n",
    "from pympler import asizeof\n",
    "from math import log10\n",
    "import scipy.sparse\n",
    "from scipy.sparse.csc import csc_matrix\n",
    "import theano\n",
    "import theano.tensor as T\n",
    "from datetime import datetime as dt\n",
    "from datetime import timedelta as td"
   ]
  },
  {
   "cell_type": "code",
   "execution_count": null,
   "metadata": {},
   "outputs": [],
   "source": [
    "class BPR:\n",
    "    def __init__(self, n_factors = 100, n_iterations = 10, learning_rate = 0.01, lambda_session = 0.0, lambda_item = 0.0, sigma = 0.05, init_normal = False, session_key = 'SessionId', item_key = 'ItemId'):\n",
    "        self.n_factors = n_factors\n",
    "        self.n_iterations = n_iterations\n",
    "        self.learning_rate = learning_rate\n",
    "        self.lambda_session = lambda_session\n",
    "        self.lambda_item = lambda_item\n",
    "        self.sigma = sigma\n",
    "        self.init_normal = init_normal\n",
    "        self.session_key = session_key\n",
    "        self.item_key = item_key\n",
    "        self.current_session = None\n",
    "    \n",
    "    def init(self, data):\n",
    "        self.U = np.random.rand(self.n_sessions, self.n_factors) * 2 * self.sigma - self.sigma if not self.init_normal else np.random.randn(self.n_sessions, self.n_factors) * self.sigma\n",
    "        self.I = np.random.rand(self.n_items, self.n_factors) * 2 * self.sigma - self.sigma if not self.init_normal else np.random.randn(self.n_items, self.n_factors) * self.sigma\n",
    "        self.bU = np.zeros(self.n_sessions)\n",
    "        self.bI = np.zeros(self.n_items)\n",
    "    \n",
    "    def update(self, uidx, p, n):\n",
    "        uF = np.copy(self.U[uidx,:])\n",
    "        iF1 = np.copy(self.I[p,:])\n",
    "        iF2 = np.copy(self.I[n,:])\n",
    "        sigm = self.sigmoid(iF1.T.dot(uF) - iF2.T.dot(uF) + self.bI[p] - self.bI[n])\n",
    "        c = 1.0 - sigm\n",
    "        self.U[uidx,:] += self.learning_rate * (c * (iF1 - iF2) - self.lambda_session * uF)\n",
    "        self.I[p,:] += self.learning_rate * (c * uF - self.lambda_item * iF1)\n",
    "        self.I[n,:] += self.learning_rate * (-c * uF - self.lambda_item * iF2)\n",
    "        return np.log(sigm)\n",
    "    \n",
    "    def fit(self, data):\n",
    "        itemids = data[self.item_key].unique()\n",
    "        self.n_items = len(itemids)\n",
    "        self.itemidmap = pd.Series(data=np.arange(self.n_items), index=itemids)\n",
    "        sessionids = data[self.session_key].unique()\n",
    "        self.n_sessions = len(sessionids)\n",
    "        data = pd.merge(data, pd.DataFrame({self.item_key:itemids, 'ItemIdx':np.arange(self.n_items)}), on=self.item_key, how='inner')\n",
    "        data = pd.merge(data, pd.DataFrame({self.session_key:sessionids, 'SessionIdx':np.arange(self.n_sessions)}), on=self.session_key, how='inner')     \n",
    "        self.init(data)\n",
    "        for it in range(self.n_iterations):\n",
    "            c = []\n",
    "            for e in np.random.permutation(len(data)):\n",
    "                uidx = data.SessionIdx.values[e]\n",
    "                iidx = data.ItemIdx.values[e]\n",
    "                iidx2 = data.ItemIdx.values[np.random.randint(self.n_items)]\n",
    "                err = self.update(uidx, iidx, iidx2)\n",
    "                c.append(err)\n",
    "#             print(it, np.mean(c))\n",
    "    \n",
    "    def predict_next(self, session_id, input_item_id, predict_for_item_ids, input_user_id=None, skip=False, type='view',\n",
    "                     timestamp=0):\n",
    "        iidx = self.itemidmap[input_item_id]\n",
    "        if self.current_session is None or self.current_session != session_id:\n",
    "            self.current_session = session_id\n",
    "            self.session = [iidx]\n",
    "        else:\n",
    "            self.session.append(iidx)\n",
    "        uF = self.I[self.session].mean(axis=0)\n",
    "        iIdxs = self.itemidmap[predict_for_item_ids]\n",
    "        return pd.Series(data=self.I[iIdxs].dot(uF) + self.bI[iIdxs], index=predict_for_item_ids)\n",
    "    \n",
    "    def results(self, session_id, input_item_id, predict_for_item_ids):\n",
    "        score = self.predict_next(session_id, input_item_id, predict_for_item_ids)\n",
    "        score_frame = score.to_frame() \n",
    "        score_frame.reset_index(inplace=True)\n",
    "        score_frame.columns = ['item_id','score']\n",
    "        sort_by_score = score_frame.sort_values('score',ascending=False)\n",
    "        for i in sort_by_score.head(10).item_id:\n",
    "            print(i)\n",
    "    \n",
    "    def sigmoid(self, x):\n",
    "        return 1.0 / (1.0 + np.exp(-x))\n",
    "    "
   ]
  },
  {
   "cell_type": "code",
   "execution_count": null,
   "metadata": {},
   "outputs": [],
   "source": [
    "bpr = BPR()\n",
    "bpr.fit(data)\n",
    "ids = data.ItemId.unique()\n",
    "bpr.results(session_id = 7,\n",
    "                input_item_id = 224,\n",
    "                predict_for_item_ids = ids)"
   ]
  }
 ],
 "metadata": {
  "kernelspec": {
   "display_name": "Python 3",
   "language": "python",
   "name": "python3"
  },
  "language_info": {
   "codemirror_mode": {
    "name": "ipython",
    "version": 3
   },
   "file_extension": ".py",
   "mimetype": "text/x-python",
   "name": "python",
   "nbconvert_exporter": "python",
   "pygments_lexer": "ipython3",
   "version": "3.7.4"
  }
 },
 "nbformat": 4,
 "nbformat_minor": 2
}
