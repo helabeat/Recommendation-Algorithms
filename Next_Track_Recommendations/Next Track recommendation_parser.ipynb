{
 "cells": [
  {
   "cell_type": "code",
   "execution_count": 48,
   "metadata": {},
   "outputs": [],
   "source": [
    "from _operator import itemgetter\n",
    "from math import sqrt\n",
    "import random\n",
    "import time\n",
    "import numpy as np\n",
    "import pandas as pd\n",
    "import os\n",
    "import psutil\n",
    "import gc\n",
    "\n",
    "from pympler import asizeof\n",
    "from math import log10\n",
    "import scipy.sparse\n",
    "from scipy.sparse.csc import csc_matrix\n",
    "from datetime import datetime as dt\n",
    "from datetime import timedelta as td\n",
    "from SKNN import SKNN\n",
    "from BPR import BPR"
   ]
  },
  {
   "cell_type": "code",
   "execution_count": 49,
   "metadata": {},
   "outputs": [],
   "source": [
    "data = pd.read_csv('Copy of explicit_data - Session Data - Songs.csv')"
   ]
  },
  {
   "cell_type": "code",
   "execution_count": 50,
   "metadata": {},
   "outputs": [],
   "source": [
    "class arguments:\n",
    "    def __init__(self):\n",
    "        self.algorithm = None\n",
    "        \n",
    "    \n",
    "    def runAlgorithm(self, algorithm, data, session_id, input_item_id):\n",
    "        ids = data.ItemId.unique()\n",
    "        self.algorithm = algorithm\n",
    "        \n",
    "        if self.algorithm == 'SKNN':\n",
    "            sknn = SKNN()\n",
    "            sknn.train_data(data)\n",
    "            predictions = sknn.results(session_id = session_id,\n",
    "                             input_item_id = input_item_id,\n",
    "                             predict_for_item_ids = ids)\n",
    "            return predictions\n",
    "            \n",
    "        elif self.algorithm == 'BPR':\n",
    "            bpr = BPR()\n",
    "            bpr.fit(data)\n",
    "            predictions = bpr.results(session_id = session_id,\n",
    "                                input_item_id = input_item_id,\n",
    "                                predict_for_item_ids = ids)\n",
    "            return predictions\n",
    "            "
   ]
  },
  {
   "cell_type": "code",
   "execution_count": 52,
   "metadata": {},
   "outputs": [
    {
     "data": {
      "text/plain": [
       "[174, 79, 140, 175, 227, 229, 127, 179, 220, 196]"
      ]
     },
     "execution_count": 52,
     "metadata": {},
     "output_type": "execute_result"
    }
   ],
   "source": [
    "arg = arguments()\n",
    "arg.runAlgorithm('SKNN', data, 5, 174) # change the algorithm you want to call 'SKNN' or \"BPR\""
   ]
  }
 ],
 "metadata": {
  "kernelspec": {
   "display_name": "Python 3",
   "language": "python",
   "name": "python3"
  },
  "language_info": {
   "codemirror_mode": {
    "name": "ipython",
    "version": 3
   },
   "file_extension": ".py",
   "mimetype": "text/x-python",
   "name": "python",
   "nbconvert_exporter": "python",
   "pygments_lexer": "ipython3",
   "version": "3.7.4"
  }
 },
 "nbformat": 4,
 "nbformat_minor": 2
}
