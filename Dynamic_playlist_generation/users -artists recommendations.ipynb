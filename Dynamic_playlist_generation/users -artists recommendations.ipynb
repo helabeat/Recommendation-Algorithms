{
 "cells": [
  {
   "cell_type": "code",
   "execution_count": 1,
   "metadata": {},
   "outputs": [],
   "source": [
    "import pandas as pd\n",
    "import numpy as np"
   ]
  },
  {
   "cell_type": "code",
   "execution_count": 3,
   "metadata": {},
   "outputs": [],
   "source": [
    "artists = pd.read_csv('../Datasets/Copy of explicit_data - Artists - All.csv')\n",
    "user_listening = pd.read_csv('../Datasets/copy of explicit_data - DATA preprocessing - artist.csv')\n",
    "user_songs = pd.read_csv('../Datasets/Copy of explicit_data - Data preprocessing - songs.csv')\n",
    "songs = pd.read_csv('../Datasets/Copy of explicit_data - Songs - All-with artist_id.csv')"
   ]
  },
  {
   "cell_type": "markdown",
   "metadata": {},
   "source": [
    "# Suggesting songs based on user artist choices"
   ]
  },
  {
   "cell_type": "code",
   "execution_count": 7,
   "metadata": {},
   "outputs": [],
   "source": [
    "class recommend_songs_artists:\n",
    "    def __init__(self):\n",
    "        self.user_songs_data = None\n",
    "        self.user_artists_data = None\n",
    "        self.user_id = None\n",
    "        self.item_id = None\n",
    "        self.artist_id = None\n",
    "        \n",
    "    def create_user_song_pref(self, user_songs, songs):\n",
    "        user_song_pref = pd.merge(user_songs, songs.drop_duplicates(['song_id']), on=\"song_id\", how=\"left\")\n",
    "        print(list(user_song_pref.columns.values))\n",
    "        user_song_pref = user_song_pref.drop(['Album','Genre'], axis=1)\n",
    "        return user_song_pref\n",
    "\n",
    "    def create_user_rtist_pref(self, user_listening, artists):\n",
    "        user_artist_pref = pd.merge(user_listening, artists.drop_duplicates(['artist_id']), on=\"artist_id\", how=\"left\")\n",
    "        user_artist_pref = user_artist_pref.drop(['preferred_artists','musical_aspect','Unnamed: 9'], axis=1)\n",
    "        return user_artist_pref\n",
    "    \n",
    "    def create_score(self, user_songs_data):\n",
    "        train_data_grouped = user_songs_data.groupby(['song_id','Artist_id','Title']).agg({'user_id': 'count'}).reset_index()\n",
    "        train_data_grouped.rename(columns = {'user_id': 'score'},inplace=True)\n",
    "        # sort the values to get an overview of the popular songs\n",
    "        train_data_sort = train_data_grouped.sort_values(['score', 'song_id'], ascending = [0,1])\n",
    "        train_data_sort = pd.DataFrame(train_data_sort)\n",
    "        train_data_sort.reset_index(drop=True, inplace = True)\n",
    "        return train_data_sort\n",
    "    \n",
    "    def recommend_songs(self, user_id):\n",
    "        user_artists_data = self.create_user_rtist_pref(user_listening, artists)\n",
    "        user_songs_data = self.create_user_song_pref(user_songs, songs)\n",
    "        songs_ = []\n",
    "        scores = []\n",
    "        l2 = []\n",
    "        l3 = []\n",
    "        user_pref = user_artists_data.loc[user_artists_data['user_id'] == user_id]\n",
    "        createScore = self.create_score(user_songs_data)\n",
    "        for i in user_pref['artist_id']:\n",
    "            songs_.append(createScore['Title'].loc[createScore['Artist_id'] == i])\n",
    "            scores.append(createScore['score'].loc[createScore['Artist_id'] == i])\n",
    "        for i in range(len(songs_)):\n",
    "            for j in songs_[i]:\n",
    "                l2.append(j)\n",
    "        for i in range(len(scores)):\n",
    "            for j in scores[i]:\n",
    "                l3.append(j)\n",
    "        list_of_tuples = list(zip(l2, l3)) \n",
    "        df = pd.DataFrame(list_of_tuples, columns = ['Songs', 'Score'])  \n",
    "        sort_by_life = df.sort_values('Score', ascending=False)\n",
    "        sort_by_life.reset_index(drop=True, inplace = True)\n",
    "        sugesions = []\n",
    "        idx = []\n",
    "        for i in sort_by_life['Songs']:\n",
    "            idx.append(songs['song_id'].loc[songs['Title'] == i])\n",
    "        for i in range (10):\n",
    "            for j in idx[i]:\n",
    "                sugesions.append(j)\n",
    "        return sugesions"
   ]
  },
  {
   "cell_type": "code",
   "execution_count": 29,
   "metadata": {},
   "outputs": [
    {
     "data": {
      "text/plain": [
       "[26, 81, 55, 298, 80, 93, 48, 277, 49, 191]"
      ]
     },
     "execution_count": 29,
     "metadata": {},
     "output_type": "execute_result"
    }
   ],
   "source": [
    "rs = recommend_songs_artists()\n",
    "rs.recommend_songs(\n",
    "    user_id = 10002) \n",
    "\n"
   ]
  }
 ],
 "metadata": {
  "kernelspec": {
   "display_name": "Python 3",
   "language": "python",
   "name": "python3"
  },
  "language_info": {
   "codemirror_mode": {
    "name": "ipython",
    "version": 3
   },
   "file_extension": ".py",
   "mimetype": "text/x-python",
   "name": "python",
   "nbconvert_exporter": "python",
   "pygments_lexer": "ipython3",
   "version": "3.7.4"
  }
 },
 "nbformat": 4,
 "nbformat_minor": 2
}
