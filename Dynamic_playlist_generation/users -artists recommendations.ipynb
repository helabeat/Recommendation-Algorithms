{
 "cells": [
  {
   "cell_type": "code",
   "execution_count": 18,
   "metadata": {},
   "outputs": [],
   "source": [
    "import pandas as pd\n",
    "import numpy as np"
   ]
  },
  {
   "cell_type": "code",
   "execution_count": 19,
   "metadata": {},
   "outputs": [],
   "source": [
    "artists = pd.read_csv('Copy of explicit_data - Artists - All.csv')\n",
    "user_listening = pd.read_csv('copy of explicit_data - DATA preprocessing - artist.csv')\n",
    "user_songs = pd.read_csv('Copy of explicit_data - Data preprocessing - songs.csv')\n",
    "songs = pd.read_csv('Copy of explicit_data - Songs - All-with artist_id.csv')"
   ]
  },
  {
   "cell_type": "code",
   "execution_count": 27,
   "metadata": {},
   "outputs": [
    {
     "data": {
      "text/html": [
       "<div>\n",
       "<style scoped>\n",
       "    .dataframe tbody tr th:only-of-type {\n",
       "        vertical-align: middle;\n",
       "    }\n",
       "\n",
       "    .dataframe tbody tr th {\n",
       "        vertical-align: top;\n",
       "    }\n",
       "\n",
       "    .dataframe thead th {\n",
       "        text-align: right;\n",
       "    }\n",
       "</style>\n",
       "<table border=\"1\" class=\"dataframe\">\n",
       "  <thead>\n",
       "    <tr style=\"text-align: right;\">\n",
       "      <th></th>\n",
       "      <th>song_id</th>\n",
       "      <th>Title</th>\n",
       "      <th>Artist</th>\n",
       "      <th>Artist_id</th>\n",
       "      <th>Album</th>\n",
       "      <th>Genre</th>\n",
       "    </tr>\n",
       "  </thead>\n",
       "  <tbody>\n",
       "    <tr>\n",
       "      <td>0</td>\n",
       "      <td>2</td>\n",
       "      <td>Aa Ra Sulan</td>\n",
       "      <td>Nirosha Virajini</td>\n",
       "      <td>21</td>\n",
       "      <td>No Album</td>\n",
       "      <td>NaN</td>\n",
       "    </tr>\n",
       "    <tr>\n",
       "      <td>1</td>\n",
       "      <td>283</td>\n",
       "      <td>Aale katha</td>\n",
       "      <td>Kalpana Nayanamadu, Shermaine Willis ft Iraj</td>\n",
       "      <td>11</td>\n",
       "      <td>NaN</td>\n",
       "      <td>NaN</td>\n",
       "    </tr>\n",
       "    <tr>\n",
       "      <td>2</td>\n",
       "      <td>3</td>\n",
       "      <td>Ada Nam Ma Hada Iwasum Na</td>\n",
       "      <td>Raveen Kanishka &amp; Kalpana Kavindi</td>\n",
       "      <td>101</td>\n",
       "      <td>NaN</td>\n",
       "      <td>NaN</td>\n",
       "    </tr>\n",
       "    <tr>\n",
       "      <td>3</td>\n",
       "      <td>4</td>\n",
       "      <td>Ada Thaniyen Ma Hadanne Na Ma</td>\n",
       "      <td>Shihan Mihiranga</td>\n",
       "      <td>62</td>\n",
       "      <td>NaN</td>\n",
       "      <td>NaN</td>\n",
       "    </tr>\n",
       "    <tr>\n",
       "      <td>4</td>\n",
       "      <td>5</td>\n",
       "      <td>Adambarai Baluwama Nam</td>\n",
       "      <td>Surani De Mel</td>\n",
       "      <td>80</td>\n",
       "      <td>NaN</td>\n",
       "      <td>NaN</td>\n",
       "    </tr>\n",
       "  </tbody>\n",
       "</table>\n",
       "</div>"
      ],
      "text/plain": [
       "   song_id                          Title  \\\n",
       "0        2                    Aa Ra Sulan   \n",
       "1      283                     Aale katha   \n",
       "2        3      Ada Nam Ma Hada Iwasum Na   \n",
       "3        4  Ada Thaniyen Ma Hadanne Na Ma   \n",
       "4        5         Adambarai Baluwama Nam   \n",
       "\n",
       "                                         Artist  Artist_id     Album  Genre  \n",
       "0                              Nirosha Virajini         21  No Album    NaN  \n",
       "1  Kalpana Nayanamadu, Shermaine Willis ft Iraj         11       NaN    NaN  \n",
       "2             Raveen Kanishka & Kalpana Kavindi        101       NaN    NaN  \n",
       "3                              Shihan Mihiranga         62       NaN    NaN  \n",
       "4                                 Surani De Mel         80       NaN    NaN  "
      ]
     },
     "execution_count": 27,
     "metadata": {},
     "output_type": "execute_result"
    }
   ],
   "source": [
    "songs.head()"
   ]
  },
  {
   "cell_type": "markdown",
   "metadata": {},
   "source": [
    "# Suggesting songs based on user artist choices"
   ]
  },
  {
   "cell_type": "code",
   "execution_count": 26,
   "metadata": {},
   "outputs": [
    {
     "ename": "IndentationError",
     "evalue": "expected an indented block (<ipython-input-26-ccf57cb397d5>, line 51)",
     "output_type": "error",
     "traceback": [
      "\u001b[1;36m  File \u001b[1;32m\"<ipython-input-26-ccf57cb397d5>\"\u001b[1;36m, line \u001b[1;32m51\u001b[0m\n\u001b[1;33m    return sort_by_life.head(10)\u001b[0m\n\u001b[1;37m         ^\u001b[0m\n\u001b[1;31mIndentationError\u001b[0m\u001b[1;31m:\u001b[0m expected an indented block\n"
     ]
    }
   ],
   "source": [
    "class recommend_songs_artists:\n",
    "    def __init__(self):\n",
    "        self.user_songs_data = None\n",
    "        self.user_artists_data = None\n",
    "        self.user_id = None\n",
    "        self.item_id = None\n",
    "        self.artist_id = None\n",
    "        \n",
    "    def create_user_song_pref(self, user_songs, songs):\n",
    "        user_song_pref = pd.merge(user_songs, songs.drop_duplicates(['song_id']), on=\"song_id\", how=\"left\")\n",
    "        user_song_pref = user_song_pref.drop(['Album','Genre'], axis=1)\n",
    "        return user_song_pref\n",
    "\n",
    "    def create_user_rtist_pref(self, user_listening, artists):\n",
    "        user_artist_pref = pd.merge(user_listening, artists.drop_duplicates(['artist_id']), on=\"artist_id\", how=\"left\")\n",
    "        user_artist_pref = user_artist_pref.drop(['preferred_artists','musical_aspect','Unnamed: 9'], axis=1)\n",
    "        return user_artist_pref\n",
    "    \n",
    "    def create_score(self, user_songs_data):\n",
    "        train_data_grouped = user_songs_data.groupby(['song_id','Artist_id','Title']).agg({'user_id': 'count'}).reset_index()\n",
    "        train_data_grouped.rename(columns = {'user_id': 'score'},inplace=True)\n",
    "        # sort the values to get an overview of the popular songs\n",
    "        train_data_sort = train_data_grouped.sort_values(['score', 'song_id'], ascending = [0,1])\n",
    "        train_data_sort = pd.DataFrame(train_data_sort)\n",
    "        train_data_sort.reset_index(drop=True, inplace = True)\n",
    "        return train_data_sort\n",
    "    \n",
    "    def recommend_songs(self, user_id):\n",
    "        user_artists_data = self.create_user_rtist_pref(user_listening, artists)\n",
    "        user_songs_data = self.create_user_song_pref(user_songs, songs)\n",
    "        songs_ = []\n",
    "        scores = []\n",
    "        l2 = []\n",
    "        l3 = []\n",
    "        user_pref = user_artists_data.loc[user_artists_data['user_id'] == user_id]\n",
    "        createScore = self.create_score(user_songs_data)\n",
    "        for i in user_pref['artist_id']:\n",
    "            songs_.append(createScore['Title'].loc[createScore['Artist_id'] == i])\n",
    "            scores.append(createScore['score'].loc[createScore['Artist_id'] == i])\n",
    "        for i in range(len(songs_)):\n",
    "            for j in songs_[i]:\n",
    "                l2.append(j)\n",
    "        for i in range(len(scores)):\n",
    "            for j in scores[i]:\n",
    "                l3.append(j)\n",
    "        list_of_tuples = list(zip(l2, l3)) \n",
    "        df = pd.DataFrame(list_of_tuples, columns = ['Songs', 'Score'])  \n",
    "        sort_by_life = df.sort_values('Score', ascending=False)\n",
    "        sort_by_life.reset_index(drop=True, inplace = True)\n",
    "        sugesions = []\n",
    "        idx = []\n",
    "        for i in sort_by_life['Songs']:\n",
    "            idx.append(songs['song_id'].loc[songs['Title'] == i])\n",
    "        for i in range(len(idx)):\n",
    "            for j in idx[i]:\n",
    "                sugesions.append(j)\n",
    "        return sugesions"
   ]
  },
  {
   "cell_type": "code",
   "execution_count": 25,
   "metadata": {},
   "outputs": [
    {
     "data": {
      "text/html": [
       "<div>\n",
       "<style scoped>\n",
       "    .dataframe tbody tr th:only-of-type {\n",
       "        vertical-align: middle;\n",
       "    }\n",
       "\n",
       "    .dataframe tbody tr th {\n",
       "        vertical-align: top;\n",
       "    }\n",
       "\n",
       "    .dataframe thead th {\n",
       "        text-align: right;\n",
       "    }\n",
       "</style>\n",
       "<table border=\"1\" class=\"dataframe\">\n",
       "  <thead>\n",
       "    <tr style=\"text-align: right;\">\n",
       "      <th></th>\n",
       "      <th>Songs</th>\n",
       "      <th>Score</th>\n",
       "    </tr>\n",
       "  </thead>\n",
       "  <tbody>\n",
       "    <tr>\n",
       "      <td>0</td>\n",
       "      <td>Chandrayan Pidu Kiranak Sagawala Horen</td>\n",
       "      <td>5</td>\n",
       "    </tr>\n",
       "    <tr>\n",
       "      <td>1</td>\n",
       "      <td>Landune</td>\n",
       "      <td>4</td>\n",
       "    </tr>\n",
       "    <tr>\n",
       "      <td>2</td>\n",
       "      <td>Hitha Hiriwetunado</td>\n",
       "      <td>4</td>\n",
       "    </tr>\n",
       "    <tr>\n",
       "      <td>3</td>\n",
       "      <td>Mage punchi rosa male</td>\n",
       "      <td>3</td>\n",
       "    </tr>\n",
       "    <tr>\n",
       "      <td>4</td>\n",
       "      <td>Labhadiye</td>\n",
       "      <td>3</td>\n",
       "    </tr>\n",
       "    <tr>\n",
       "      <td>5</td>\n",
       "      <td>Malak Une Ai Numba Mata</td>\n",
       "      <td>3</td>\n",
       "    </tr>\n",
       "    <tr>\n",
       "      <td>6</td>\n",
       "      <td>Hanthanata Payana Sanda</td>\n",
       "      <td>3</td>\n",
       "    </tr>\n",
       "    <tr>\n",
       "      <td>7</td>\n",
       "      <td>Mata Rawana</td>\n",
       "      <td>2</td>\n",
       "    </tr>\n",
       "    <tr>\n",
       "      <td>8</td>\n",
       "      <td>Hawasaka Ma</td>\n",
       "      <td>2</td>\n",
       "    </tr>\n",
       "    <tr>\n",
       "      <td>9</td>\n",
       "      <td>Sithin Ma Noseli</td>\n",
       "      <td>2</td>\n",
       "    </tr>\n",
       "  </tbody>\n",
       "</table>\n",
       "</div>"
      ],
      "text/plain": [
       "                                    Songs  Score\n",
       "0  Chandrayan Pidu Kiranak Sagawala Horen      5\n",
       "1                                 Landune      4\n",
       "2                      Hitha Hiriwetunado      4\n",
       "3                  Mage punchi rosa male       3\n",
       "4                               Labhadiye      3\n",
       "5                 Malak Une Ai Numba Mata      3\n",
       "6                 Hanthanata Payana Sanda      3\n",
       "7                             Mata Rawana      2\n",
       "8                             Hawasaka Ma      2\n",
       "9                        Sithin Ma Noseli      2"
      ]
     },
     "execution_count": 25,
     "metadata": {},
     "output_type": "execute_result"
    }
   ],
   "source": [
    "rs = recommend_songs_artists()\n",
    "rs.recommend_songs(\n",
    "    user_id = 10002) # need history data\n",
    "\n"
   ]
  },
  {
   "cell_type": "code",
   "execution_count": 156,
   "metadata": {},
   "outputs": [],
   "source": [
    "# # get the count of artist_id values\n",
    "# artists_grouped = user_artist_pref.groupby(['artist']).agg({'artist_id': 'count'}).reset_index()\n",
    "# # sort the values to get an overview of the popular songs\n",
    "# artists_grouped.sort_values(['artist_id', 'artist'], ascending = [0,1])"
   ]
  },
  {
   "cell_type": "code",
   "execution_count": 157,
   "metadata": {},
   "outputs": [],
   "source": [
    "# song_grpd_with_artists = songs_with_artist_id.groupby(['Artist']).agg({'Artist_id': 'count'}).reset_index()\n",
    "# song_grpd_with_artists.sort_values(['Artist_id', 'Artist'], ascending = [0,1])"
   ]
  },
  {
   "cell_type": "code",
   "execution_count": 158,
   "metadata": {},
   "outputs": [],
   "source": [
    "# for i in user_artist_pref['user_id']:\n",
    "#     if i==10001:\n",
    "#         print(user_artist_pref['artist'])\n",
    "#         break"
   ]
  },
  {
   "cell_type": "code",
   "execution_count": 159,
   "metadata": {},
   "outputs": [],
   "source": [
    "# # get the count of song_id values\n",
    "# train_data_grouped = user_song_pref.groupby(['song_id','Artist_id','Title']).agg({'user_id': 'count'}).reset_index()\n",
    "# train_data_grouped.rename(columns = {'user_id': 'score'},inplace=True)\n",
    "# # sort the values to get an overview of the popular songs\n",
    "# train_data_sort = train_data_grouped.sort_values(['score', 'song_id'], ascending = [0,1])"
   ]
  }
 ],
 "metadata": {
  "kernelspec": {
   "display_name": "Python 3",
   "language": "python",
   "name": "python3"
  },
  "language_info": {
   "codemirror_mode": {
    "name": "ipython",
    "version": 3
   },
   "file_extension": ".py",
   "mimetype": "text/x-python",
   "name": "python",
   "nbconvert_exporter": "python",
   "pygments_lexer": "ipython3",
   "version": "3.7.4"
  }
 },
 "nbformat": 4,
 "nbformat_minor": 2
}
